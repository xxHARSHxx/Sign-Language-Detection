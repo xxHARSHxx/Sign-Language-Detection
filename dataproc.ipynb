{
 "cells": [
  {
   "cell_type": "code",
   "execution_count": 92,
   "id": "0545e500",
   "metadata": {},
   "outputs": [],
   "source": [
    "import pandas as pd\n",
    "import numpy as np\n",
    "import matplotlib.pyplot as plt"
   ]
  },
  {
   "cell_type": "code",
   "execution_count": 93,
   "id": "f8df9d98",
   "metadata": {},
   "outputs": [],
   "source": [
    "dtypes={str(i):'int32' for i in range(785)}"
   ]
  },
  {
   "cell_type": "code",
   "execution_count": 94,
   "id": "f93204c3",
   "metadata": {},
   "outputs": [],
   "source": [
    "df=pd.read_csv('D:\\Study Material\\Computational Intelligence Lab\\Group Project\\dataset\\sign_mnist_trainexample.csv',dtype=dtypes,low_memory=False)"
   ]
  },
  {
   "cell_type": "code",
   "execution_count": 96,
   "id": "73613d3f",
   "metadata": {},
   "outputs": [
    {
     "name": "stdout",
     "output_type": "stream",
     "text": [
      "(50, 785)\n",
      "(50, 785)\n"
     ]
    }
   ],
   "source": [
    "print(df.shape)\n",
    "df.dropna(inplace=True)\n",
    "print(df.shape)"
   ]
  },
  {
   "cell_type": "code",
   "execution_count": 86,
   "id": "edc28291",
   "metadata": {},
   "outputs": [
    {
     "name": "stdout",
     "output_type": "stream",
     "text": [
      "(48, 785)\n"
     ]
    }
   ],
   "source": [
    "df.drop_duplicates(inplace=True)\n",
    "print(df.shape)"
   ]
  },
  {
   "cell_type": "code",
   "execution_count": 89,
   "id": "4a33c3bf",
   "metadata": {},
   "outputs": [
    {
     "name": "stdout",
     "output_type": "stream",
     "text": [
      "(47, 785)\n"
     ]
    }
   ],
   "source": [
    "df.drop(df[df['label']<0].index,inplace=True)\n",
    "df.drop(df[df['label']>24].index,inplace=True)\n",
    "df.drop(df[df['label']==9].index,inplace=True)\n",
    "print(df.shape)"
   ]
  },
  {
   "cell_type": "code",
   "execution_count": 81,
   "id": "99ebd57a",
   "metadata": {},
   "outputs": [
    {
     "name": "stdout",
     "output_type": "stream",
     "text": [
      "(46, 785)\n"
     ]
    }
   ],
   "source": [
    "col=list(df)\n",
    "col.remove('label')\n",
    "for i in col:\n",
    "    df.drop(df[df[i]<0].index,inplace=True)\n",
    "    df.drop(df[df[i]>255].index,inplace=True)\n",
    "print(df.shape)"
   ]
  },
  {
   "cell_type": "code",
   "execution_count": 15,
   "id": "29de1dfa",
   "metadata": {},
   "outputs": [
    {
     "name": "stdout",
     "output_type": "stream",
     "text": [
      "[ 3  6  2 ... 18 17 23]\n",
      "[[107 118 127 ... 204 203 202]\n",
      " [155 157 156 ... 103 135 149]\n",
      " [187 188 188 ... 195 194 195]\n",
      " ...\n",
      " [174 174 174 ... 202 200 200]\n",
      " [177 181 184 ...  64  87  93]\n",
      " [179 180 180 ... 205 209 215]]\n"
     ]
    }
   ],
   "source": [
    "labels = df.iloc[:, 0].values\n",
    "pixels = df.iloc[:, 1:].values\n",
    "print(labels)\n",
    "print(pixels)"
   ]
  },
  {
   "cell_type": "code",
   "execution_count": 16,
   "id": "c28c518e",
   "metadata": {},
   "outputs": [
    {
     "name": "stdout",
     "output_type": "stream",
     "text": [
      "[[[107 118 127 ... 170 170 169]\n",
      "  [111 121 129 ... 171 171 170]\n",
      "  [113 123 131 ... 171 171 171]\n",
      "  ...\n",
      "  [142 150 159 ... 202 201 200]\n",
      "  [142 151 160 ... 204 203 202]\n",
      "  [142 151 160 ... 204 203 202]]\n",
      "\n",
      " [[155 157 156 ... 138  92 108]\n",
      "  [158 159 159 ... 142 116 143]\n",
      "  [161 161 161 ... 147 125 140]\n",
      "  ...\n",
      "  [162 159 145 ...  91 101  94]\n",
      "  [153 139 115 ...  97  95 120]\n",
      "  [135 116  95 ... 103 135 149]]\n",
      "\n",
      " [[187 188 188 ...  66  77  83]\n",
      "  [188 189 189 ...  73  73  71]\n",
      "  [190 190 190 ...  74  68  61]\n",
      "  ...\n",
      "  [212 198 175 ... 195 193 192]\n",
      "  [202 179 152 ... 195 194 193]\n",
      "  [198 166 132 ... 195 194 195]]\n",
      "\n",
      " ...\n",
      "\n",
      " [[174 174 174 ... 160 158 156]\n",
      "  [178 178 177 ... 162 160 158]\n",
      "  [181 180 180 ... 164 162 161]\n",
      "  ...\n",
      "  [215 216 216 ... 201 199 198]\n",
      "  [216 217 217 ... 201 200 198]\n",
      "  [217 217 217 ... 202 200 200]]\n",
      "\n",
      " [[177 181 184 ... 181 179 177]\n",
      "  [179 182 185 ... 183 181 179]\n",
      "  [181 184 187 ... 185 183 182]\n",
      "  ...\n",
      "  [129 132 134 ...  94 102  70]\n",
      "  [131 134 132 ...  78 100  86]\n",
      "  [136 135 135 ...  64  87  93]]\n",
      "\n",
      " [[179 180 180 ...  47  30  39]\n",
      "  [180 182 183 ...  79  24  34]\n",
      "  [184 184 185 ... 115  25  29]\n",
      "  ...\n",
      "  [ 90  94  76 ... 109 150 172]\n",
      "  [ 94  93  89 ... 202 213 215]\n",
      "  [ 96  88 109 ... 205 209 215]]]\n"
     ]
    }
   ],
   "source": [
    "images = pixels.reshape(-1, 28, 28)\n",
    "print(images)"
   ]
  },
  {
   "cell_type": "code",
   "execution_count": 18,
   "id": "b623c400",
   "metadata": {},
   "outputs": [
    {
     "data": {
      "image/png": "[encoded data removed]",
      "text/plain": [
       "<Figure size 640x480 with 1 Axes>"
      ]
     },
     "metadata": {},
     "output_type": "display_data"
    }
   ],
   "source": [
    "plt.imshow(images[3], cmap='gray')\n",
    "plt.title(f\"Label: {labels[3]}\")\n",
    "plt.show()"
   ]
  },
  {
   "cell_type": "code",
   "execution_count": null,
   "id": "5395c8b8",
   "metadata": {},
   "outputs": [],
   "source": []
  },
  {
   "cell_type": "code",
   "execution_count": null,
   "id": "f7360709",
   "metadata": {},
   "outputs": [],
   "source": []
  }
 ],
 "metadata": {
  "kernelspec": {
   "display_name": "Python 3 (ipykernel)",
   "language": "python",
   "name": "python3"
  },
  "language_info": {
   "codemirror_mode": {
    "name": "ipython",
    "version": 3
   },
   "file_extension": ".py",
   "mimetype": "text/x-python",
   "name": "python",
   "nbconvert_exporter": "python",
   "pygments_lexer": "ipython3",
   "version": "3.10.9"
  }
 },
 "nbformat": 4,
 "nbformat_minor": 5
}
